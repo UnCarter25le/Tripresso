{
 "cells": [
  {
   "cell_type": "code",
   "execution_count": null,
   "metadata": {},
   "outputs": [],
   "source": [
    "# http://dcimg.travel.net.tw\n",
    "def photoDownload(photoUri,photoFolder,plan_id,tripPlanCodeName):\n",
    "    global headers\n",
    "    resImg = requests.get(photoUri,headers = headers)\n",
    "    timeSleepRandom()\n",
    "    deputyFileName = photoUri.split('/')[-1].split('.')[1]\n",
    "    with open('./{0}/{1}_{2}.{3}'.format(photoFolder,plan_id,tripPlanCodeName,deputyFileName),'wb')as f:\n",
    "        f.write(resImg.content)\n",
    "    timeSleep()\n",
    "    print('順利寫出第 '+ str(plan_id)+ '張。')\n",
    "    \n",
    "with open('./newAmazing_199_SET.json')as f:\n",
    "    innn = json.load(f)\n",
    "\n",
    "photoFolder = \"photoForNewamazing\"\n",
    "\n",
    "for key in innn:\n",
    "    if \"http://dcimg.travel.net.tw\" in innn[key]['imgUrn']:\n",
    "        photoUri = innn[key]['imgUrn']\n",
    "        plan_id = key\n",
    "        tripPlanCodeName = innn[key]['tripPlanCodeName']\n",
    "        photoDownload(photoUri,photoFolder,plan_id,tripPlanCodeName)       \n",
    "    else:\n",
    "        photoUri = innn[key]['domainUrl']+innn[key]['imgUrn']\n",
    "        plan_id = key\n",
    "        tripPlanCodeName = innn[key]['tripPlanCodeName']\n",
    "        photoDownload(photoUri,photoFolder,plan_id,tripPlanCodeName)"
   ]
  }
 ],
 "metadata": {
  "kernelspec": {
   "display_name": "Python 3",
   "language": "python",
   "name": "python3"
  },
  "language_info": {
   "codemirror_mode": {
    "name": "ipython",
    "version": 3
   },
   "file_extension": ".py",
   "mimetype": "text/x-python",
   "name": "python",
   "nbconvert_exporter": "python",
   "pygments_lexer": "ipython3",
   "version": "3.6.6"
  }
 },
 "nbformat": 4,
 "nbformat_minor": 2
}
